{
 "cells": [
  {
   "cell_type": "code",
   "execution_count": 1,
   "id": "5651f5d3",
   "metadata": {},
   "outputs": [
    {
     "name": "stdout",
     "output_type": "stream",
     "text": [
      "Estranged\n",
      "Paradise City\n"
     ]
    }
   ],
   "source": [
    "#dictionaries\n",
    "my_dictionary = {\"song\": \"Estranged\", \"artist\": \"Guns N' Roses\"}\n",
    "print(my_dictionary[\"song\"])\n",
    "my_dictionary[\"song\"] = \"Paradise City\"\n",
    "print(my_dictionary[\"song\"])"
   ]
  }
 ],
 "metadata": {
  "kernelspec": {
   "display_name": "Python 3 (ipykernel)",
   "language": "python",
   "name": "python3"
  },
  "language_info": {
   "codemirror_mode": {
    "name": "ipython",
    "version": 3
   },
   "file_extension": ".py",
   "mimetype": "text/x-python",
   "name": "python",
   "nbconvert_exporter": "python",
   "pygments_lexer": "ipython3",
   "version": "3.13.2"
  }
 },
 "nbformat": 4,
 "nbformat_minor": 5
}
