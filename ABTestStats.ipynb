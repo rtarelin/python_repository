{
 "cells": [
  {
   "cell_type": "code",
   "execution_count": 4,
   "metadata": {},
   "outputs": [],
   "source": [
    "from __future__ import division\n",
    "import numpy as np"
   ]
  },
  {
   "cell_type": "code",
   "execution_count": 6,
   "metadata": {},
   "outputs": [],
   "source": [
    "cpop = 300000 #cpop = control population\n",
    "tpop = 300000 #tpop = treatment population\n",
    "cs = 69000 #cs = control success\n",
    "ts = 72000 #ts = treatment success\n",
    "totpop = cpop + tpop #totpop =total population\n",
    "csuc = cs/cpop #control success rate\n",
    "tsuc = ts/tpop\n",
    "lift = (ts/tpop)/(cs/cpop)-1 #%lift\n",
    "c_std_err = np.sqrt((csuc*(1-csuc))/cpop) #control standard error\n",
    "t_std_err = np.sqrt((tsuc*(1-tsuc))/cpop) #treatment standard error\n",
    "std_err_lift = np.sqrt((c_std_err**2*csuc**2 + t_std_err**2 *tsuc**2)/csuc**4) #standard error %lift\n",
    "l_conf = lift-std_err_lift *1.96 #lower confidence\n",
    "u_conf = lift+std_err_lift *1.96 #upper confidence\n",
    "t_val = (tsuc-csuc)/np.sqrt(c_std_err**2 + t_std_err**2)"
   ]
  },
  {
   "cell_type": "code",
   "execution_count": 7,
   "metadata": {},
   "outputs": [
    {
     "name": "stdout",
     "output_type": "stream",
     "text": [
      "1.0\n",
      "Total Population: 600000\n",
      "Control Success: 23.0\n",
      "% Lift: 4.347826086956519\n",
      "Control Standard Error: 0.0007683315256667094\n",
      "Treatment Standard Error: 0.0007797435475847171\n",
      "Standard Error Lift: 0.48655888985194157\n",
      "Lower Confidence: 3.3941706628467134\n",
      "Upper COnfidence: 5.301481511066324\n",
      "T-Score: True - Statistically Significant 9.13505528437997\n"
     ]
    }
   ],
   "source": [
    "def stat_sig(float):\n",
    "    if t_val >= 1.96:\n",
    "        return 'True - Statistically Significant'\n",
    "    else: \n",
    "        return 'False - Not Statistically Significant' #t-test\n",
    "    \n",
    "print(cpop/tpop) #ratio of control to treatment, should be close to 1 for equal bucketing\n",
    "print('Total Population: ' + str(totpop))\n",
    "print('Control Success: ' + str(csuc*100))\n",
    "print('% Lift: ' + str(lift*100))\n",
    "print('Control Standard Error: ' + str(c_std_err))\n",
    "print('Treatment Standard Error: ' +str(t_std_err))\n",
    "print('Standard Error Lift: ' + str(std_err_lift*100))\n",
    "print('Lower Confidence: ' + str(l_conf*100))\n",
    "print('Upper COnfidence: ' + str(u_conf*100))\n",
    "print('T-Score: ' + stat_sig(t_val) +' ' + str(t_val))"
   ]
  }
 ],
 "metadata": {
  "kernelspec": {
   "display_name": "Python 3 (ipykernel)",
   "language": "python",
   "name": "python3"
  },
  "language_info": {
   "codemirror_mode": {
    "name": "ipython",
    "version": 3
   },
   "file_extension": ".py",
   "mimetype": "text/x-python",
   "name": "python",
   "nbconvert_exporter": "python",
   "pygments_lexer": "ipython3",
   "version": "3.13.2"
  }
 },
 "nbformat": 4,
 "nbformat_minor": 2
}
